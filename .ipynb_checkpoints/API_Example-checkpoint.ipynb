{
 "cells": [
  {
   "cell_type": "code",
   "execution_count": 1,
   "metadata": {
    "collapsed": true
   },
   "outputs": [],
   "source": [
    "import requests"
   ]
  },
  {
   "cell_type": "code",
   "execution_count": 2,
   "metadata": {
    "collapsed": true
   },
   "outputs": [],
   "source": [
    "url = \"https://en.wikipedia.org/w/api.php\""
   ]
  },
  {
   "cell_type": "code",
   "execution_count": 3,
   "metadata": {
    "collapsed": true
   },
   "outputs": [],
   "source": [
    "#payload = {}"
   ]
  },
  {
   "cell_type": "code",
   "execution_count": 5,
   "metadata": {
    "collapsed": true
   },
   "outputs": [],
   "source": [
    "payload_str =\"action=query&titles=Main Page&prop=revisions&rvprop=content&format=json&formatversion=2\""
   ]
  },
  {
   "cell_type": "code",
   "execution_count": 12,
   "metadata": {},
   "outputs": [],
   "source": [
    "def get_wiki(title=\"Main\"):\n",
    "    split_1 = payload_str.split(\"&\")\n",
    "    payload = {x.split(\"=\")[0]: x.split(\"=\")[1] for x in split_1} "
   ]
  },
  {
   "cell_type": "code",
   "execution_count": 17,
   "metadata": {},
   "outputs": [],
   "source": [
    "r = requests.get(url, payload)"
   ]
  },
  {
   "cell_type": "code",
   "execution_count": 23,
   "metadata": {},
   "outputs": [
    {
     "data": {
      "text/plain": [
       "{'batchcomplete': True,\n",
       " 'query': {'pages': [{'ns': 0,\n",
       "    'pageid': 15580374,\n",
       "    'revisions': [{'content': '<!--        BANNER ACROSS TOP OF PAGE         -->\\n<div id=\"mp-topbanner\" style=\"clear:both; position:relative; box-sizing:border-box; width:100%; margin:1.2em 0 6px; min-width:47em; border:1px solid #ddd; background-color:#f9f9f9; color:#000; white-space:nowrap;\">\\n<!--        \"WELCOME TO WIKIPEDIA\" AND ARTICLE COUNT        -->\\n<div style=\"margin:0.4em; width:22em; text-align:center;\">\\n<div style=\"font-size:162%; padding:.1em;\">Welcome to [[Wikipedia]],</div>\\n<div style=\"font-size:95%;\">the [[free content|free]] [[encyclopedia]] that [[Wikipedia:Introduction|anyone can edit]].</div>\\n<div id=\"articlecount\" style=\"font-size:85%;\">[[Special:Statistics|{{NUMBEROFARTICLES}}]] articles in [[English language|English]]</div>\\n</div>\\n<!--        PORTAL LIST ON RIGHT-HAND SIDE        -->\\n<ul style=\"position:absolute; right:-1em; top:50%; margin-top:-2.4em; width:38%; min-width:25em; font-size:95%;\">\\n<li style=\"position:absolute; left:0; top:0;\">[[Portal:Arts|Arts]]</li>\\n<li style=\"position:absolute; left:0; top:1.6em;\">[[Portal:Biography|Biography]]</li>\\n<li style=\"position:absolute; left:0; top:3.2em;\">[[Portal:Geography|Geography]]</li>\\n<li style=\"position:absolute; left:33%; top:0;\">[[Portal:History|History]]</li>\\n<li style=\"position:absolute; left:33%; top:1.6em;\">[[Portal:Mathematics|Mathematics]]</li>\\n<li style=\"position:absolute; left:33%; top:3.2em;\">[[Portal:Science|Science]]</li>\\n<li style=\"position:absolute; left:66%; top:0;\">[[Portal:Society|Society]]</li>\\n<li style=\"position:absolute; left:66%; top:1.6em;\">[[Portal:Technology|Technology]]</li>\\n<li style=\"position:absolute; left:66%; top:3.2em;\"><strong>[[Portal:Contents/Portals|All portals]]</strong></li>\\n</ul>\\n</div>\\n<!--        MAIN PAGE BANNER        -->\\n{{#if:{{Main Page banner}}|\\n<div id=\"mp-banner\" class=\"MainPageBG\" style=\"margin-top:4px; padding:0.5em; background-color:#fffaf5; border:1px solid #f2e0ce;\">\\n{{Main Page banner}}\\n</div>\\n}}\\n<!--        TODAY\\'S FEATURED CONTENT        -->\\n{| role=\"presentation\" id=\"mp-upper\" style=\"width: 100%; margin-top:4px; border-spacing: 0px;\"\\n<!--        TODAY\\'S FEATURED ARTICLE; DID YOU KNOW        -->\\n| id=\"mp-left\" class=\"MainPageBG\" style=\"width:55%; border:1px solid #cef2e0; padding:0; background:#f5fffa; vertical-align:top; color:#000;\" |\\n<h2 id=\"mp-tfa-h2\" style=\"margin:0.5em; background:#cef2e0; font-family:inherit; font-size:120%; font-weight:bold; border:1px solid #a3bfb1; color:#000; padding:0.2em 0.4em;\">{{#ifexpr:{{formatnum:{{PAGESIZE:Wikipedia:Today\\'s featured article/{{#time:F j, Y}}}}|R}}>150|From today\\'s featured article|Featured article <span style=\"font-size:85%; font-weight:normal;\">(Check back later for today\\'s.)</span>}}</h2>\\n<div id=\"mp-tfa\" style=\"padding:0.1em 0.6em;\">{{#ifexpr:{{formatnum:{{PAGESIZE:Wikipedia:Today\\'s featured article/{{#time:F j, Y}}}}|R}}>150|{{Wikipedia:Today\\'s featured article/{{#time:F j, Y}}}}|{{Wikipedia:Today\\'s featured article/{{#time:F j, Y|-1 day}}}}}}</div>\\n<h2 id=\"mp-dyk-h2\" style=\"clear:both; margin:0.5em; background:#cef2e0; font-family:inherit; font-size:120%; font-weight:bold; border:1px solid #a3bfb1; color:#000; padding:0.2em 0.4em;\">Did you know...</h2>\\n<div id=\"mp-dyk\" style=\"padding:0.1em 0.6em 0.5em;\">{{Did you know}}</div>\\n| style=\"border:1px solid transparent;\" |\\n<!--        IN THE NEWS and ON THIS DAY        -->\\n| id=\"mp-right\" class=\"MainPageBG\" style=\"width:45%; border:1px solid #cedff2; padding:0; background:#f5faff; vertical-align:top;\"|\\n<h2 id=\"mp-itn-h2\" style=\"margin:0.5em; background:#cedff2; font-family:inherit; font-size:120%; font-weight:bold; border:1px solid #a3b0bf; color:#000; padding:0.2em 0.4em;\">In the news</h2>\\n<div id=\"mp-itn\" style=\"padding:0.1em 0.6em;\">{{In the news}}</div>\\n<h2 id=\"mp-otd-h2\" style=\"clear:both; margin:0.5em; background:#cedff2; font-family:inherit; font-size:120%; font-weight:bold; border:1px solid #a3b0bf; color:#000; padding:0.2em 0.4em;\">On this day</h2>\\n<div id=\"mp-otd\" style=\"padding:0.1em 0.6em 0.5em;\">{{Wikipedia:Selected anniversaries/{{#time:F j}}}}</div>\\n|}\\n<!--        TODAY\\'S FEATURED LIST        --><!-- CONDITIONAL SHOW -->{{#switch:{{CURRENTDAYNAME}}|Monday|Friday=\\n<div id=\"mp-middle\" class=\"MainPageBG\" style=\"margin-top:4px; border:1px solid #f2cedd; background:#fff5fa; overflow:auto;\">\\n<div id=\"mp-center\">\\n<h2 id=\"mp-tfl-h2\" style=\"margin:0.5em; background:#f2cedd; font-family:inherit; font-size:120%; font-weight:bold; border:1px solid #bfa3af; color:#000; padding:0.2em 0.4em\">From today\\'s featured list</h2>\\n<div id=\"mp-tfl\" style=\"padding:0.3em 0.7em;\">{{#ifexist:Wikipedia:Today\\'s featured list/{{#time:F j, Y}}|{{Wikipedia:Today\\'s featured list/{{#time:F j, Y}}}}|{{TFLempty}}}}</div>\\n</div>\\n</div>|}}<!-- END CONDITIONAL SHOW -->\\n<!--        TODAY\\'S FEATURED PICTURE        -->\\n<div id=\"mp-lower\" class=\"MainPageBG\" style=\"margin-top:4px; border:1px solid #ddcef2; background:#faf5ff; overflow:auto;\">\\n<div id=\"mp-bottom\">\\n<h2 id=\"mp-tfp-h2\" style=\"margin:0.5em; background:#ddcef2; font-family:inherit; font-size:120%; font-weight:bold; border:1px solid #afa3bf; color:#000; padding:0.2em 0.4em\">{{#ifexist:Template:POTD protected/{{#time:Y-m-d}}|Today\\'s featured picture | Featured picture&ensp;<span style=\"font-size:85%; font-weight:normal;\">(Check back later for today\\'s.)</span>}}</h2>\\n<div id=\"mp-tfp\" style=\"margin:0.1em 0.4em 0.6em;\">{{#ifexist:Template:POTD protected/{{#time:Y-m-d}}|{{POTD protected/{{#time:Y-m-d}}}}|{{POTD protected/{{#time:Y-m-d|-1 day}}}}}}</div>\\n</div>\\n</div>\\n<!--        SECTIONS AT BOTTOM OF PAGE        -->\\n<div id=\"mp-lower\" style=\"padding-top:4px; padding-bottom:2px; overflow:auto; border:1px solid #e2e2e2; overflow:auto; margin-top:4px;\">\\n<h2 id=\"mp-other\" style=\"margin:0.5em; background:#eeeeee; border:1px solid #ddd; color:#222; padding:0.2em 0.4em; font-size:120%; font-weight:bold; font-family:inherit;\">Other areas of Wikipedia</h2>\\n<div id=\"mp-other-content\" style=\"padding:0.1em 0.6em;\">{{Other areas of Wikipedia}}</div>\\n<h2 id=\"mp-sister\" style=\"margin:0.5em; background:#eeeeee; border:1px solid #ddd; color:#222; padding:0.2em 0.4em; font-size:120%; font-weight:bold; font-family:inherit;\">Wikipedia\\'s sister projects</h2>\\n<div id=\"mp-sister-content\" style=\"padding:0.1em 0.6em;\">{{Wikipedia\\'s sister projects}}</div>\\n<h2 id=\"mp-lang\" style=\"margin:0.5em; background:#efefef; border:1px solid #ddd; color:#222; padding:0.2em 0.4em; font-size:120%; font-weight:bold; font-family:inherit;\">Wikipedia languages</h2>\\n<div style=\"padding:0.1em 0.6em;\">{{Wikipedia languages}}</div>\\n</div>\\n<!--        INTERWIKI STRAPLINE        -->\\n<noinclude>{{Main Page interwikis}}{{noexternallanglinks}}{{#if:{{Wikipedia:Main_Page/Tomorrow}}||}}</noinclude>__NOTOC____NOEDITSECTION__',\n",
       "      'contentformat': 'text/x-wiki',\n",
       "      'contentmodel': 'wikitext'}],\n",
       "    'title': 'Main Page'}]}}"
      ]
     },
     "execution_count": 23,
     "metadata": {},
     "output_type": "execute_result"
    }
   ],
   "source": [
    "r.json()"
   ]
  },
  {
   "cell_type": "code",
   "execution_count": null,
   "metadata": {
    "collapsed": true
   },
   "outputs": [],
   "source": []
  }
 ],
 "metadata": {
  "kernelspec": {
   "display_name": "Python 3",
   "language": "python",
   "name": "python3"
  },
  "language_info": {
   "codemirror_mode": {
    "name": "ipython",
    "version": 3
   },
   "file_extension": ".py",
   "mimetype": "text/x-python",
   "name": "python",
   "nbconvert_exporter": "python",
   "pygments_lexer": "ipython3",
   "version": "3.6.1"
  }
 },
 "nbformat": 4,
 "nbformat_minor": 2
}
