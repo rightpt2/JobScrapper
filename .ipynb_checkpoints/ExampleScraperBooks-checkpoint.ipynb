{
 "cells": [
  {
   "cell_type": "markdown",
   "metadata": {},
   "source": [
    "## This is going to be a first pass at a data scraping pipelin\n",
    "<p>The source material is from a\n",
    "<a href=\"https://www.datacamp.com/community/tutorials/web-scraping-python-nlp\">datacamp</a> \n",
    " facebook live tutorial - which is an awesome resource </p>"
   ]
  },
  {
   "cell_type": "markdown",
   "metadata": {},
   "source": [
    "<img src=\"img/moby-dick.jpg\" width=\"350\">"
   ]
  },
  {
   "cell_type": "markdown",
   "metadata": {},
   "source": [
    "<p>What is a good data science <b>pipeline</b> for a workbook / project?</p>\n",
    "<ol>\n",
    "    <li>State your question</li>\n",
    "    <li>Get your data</li>\n",
    "    <li>Wrangle your data to answer your question</li>\n",
    "    <li>Answer your question</li>\n",
    "    <li>Present your solution so that others can understand it</li>\n",
    "</ol>"
   ]
  },
  {
   "cell_type": "markdown",
   "metadata": {},
   "source": [
    "1. What is our question? - What are the most frequent words that happen in Moby Dick"
   ]
  },
  {
   "cell_type": "code",
   "execution_count": 4,
   "metadata": {
    "collapsed": true
   },
   "outputs": [],
   "source": [
    "# data camp suggests we use the requests package and Beautiful soup to create the pipeline\n",
    "\n",
    "import requests\n",
    "from bs4 import BeautifulSoup"
   ]
  }
 ],
 "metadata": {
  "kernelspec": {
   "display_name": "Python 3",
   "language": "python",
   "name": "python3"
  },
  "language_info": {
   "codemirror_mode": {
    "name": "ipython",
    "version": 3
   },
   "file_extension": ".py",
   "mimetype": "text/x-python",
   "name": "python",
   "nbconvert_exporter": "python",
   "pygments_lexer": "ipython3",
   "version": "3.6.1"
  }
 },
 "nbformat": 4,
 "nbformat_minor": 2
}
